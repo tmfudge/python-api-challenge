{
 "cells": [
  {
   "cell_type": "markdown",
   "id": "035ece38",
   "metadata": {},
   "source": [
    "In this example, you'll be creating a Python script to visualize \n",
    "the weather of 500+ cities across the world of varying distance from the equator. "
   ]
  },
  {
   "cell_type": "code",
   "execution_count": null,
   "id": "94bbb49a",
   "metadata": {},
   "outputs": [],
   "source": [
    "#Process: 1) import dep, 2)build url from documentation \n",
    "# 3) build query url 4) make call 5) traversing response\n",
    "# always read documentation to set up query & undersrand parameters "
   ]
  },
  {
   "cell_type": "code",
   "execution_count": null,
   "id": "e2e91198",
   "metadata": {},
   "outputs": [],
   "source": []
  },
  {
   "cell_type": "code",
   "execution_count": null,
   "id": "f02b845f",
   "metadata": {},
   "outputs": [],
   "source": [
    "# Dependencies\n",
    "# Incorporated citipy to determine city based on latitude and longitude\n",
    "!pip install citipy\n",
    "from citipy import citipy\n",
    "#%matplotlib notebook - is this needed?\n",
    "# from census import Census\n",
    "# from config import (census_key, gkey)\n",
    "#from scipy.stats import linregress\n",
    "#import requests\n",
    "import pandas as pd\n",
    "import gmaps\n",
    "import numpy as np\n",
    "import time\n",
    "from matplotlib import pyplot as plt\n",
    "import json\n",
    "from config import api_key"
   ]
  },
  {
   "cell_type": "code",
   "execution_count": null,
   "id": "d35524e5",
   "metadata": {},
   "outputs": [],
   "source": [
    "# Output File (CSV)\n",
    "output_data_file = \"../output_data/cities.csv\"\n",
    "\n",
    "# Range of latitudes and longitudes\n",
    "lat_range = (-90, 90)\n",
    "lng_range = (-180, 180)"
   ]
  },
  {
   "cell_type": "code",
   "execution_count": null,
   "id": "3b08d0ab",
   "metadata": {},
   "outputs": [],
   "source": [
    "# Create URL \n",
    "url = 'http://api.openweathermap.org/data/2.5/weather?q='\n",
    "#url = \"http://api.openweathermap.org/data/2.5/weather?\"\n",
    "\n",
    "# Build query URL\n",
    "query_url = url + \"appid=\" + api_key + \"&q=\" + city\n",
    "query_url\n",
    "#Data Retrieval\n",
    "\n",
    "# see https://pypi.python.org/pypi/citipy\n",
    "# see https://openweathermap.org/api"
   ]
  },
  {
   "cell_type": "code",
   "execution_count": null,
   "id": "57dbdf9a",
   "metadata": {},
   "outputs": [],
   "source": [
    "#scatter plots to showcase the following relationships:\n",
    "\n",
    "#Temperature (F) vs. Latitude\n",
    "#Humidity (%) vs. Latitude\n",
    "#Cloudiness (%) vs. Latitude\n",
    "#Wind Speed (mph) vs. Latitude"
   ]
  },
  {
   "cell_type": "code",
   "execution_count": null,
   "id": "915d6e94",
   "metadata": {},
   "outputs": [],
   "source": [
    "#After each plot, add a sentence or two explaining what the code is analyzing."
   ]
  },
  {
   "cell_type": "code",
   "execution_count": null,
   "id": "13535e62",
   "metadata": {},
   "outputs": [],
   "source": []
  }
 ],
 "metadata": {
  "kernelspec": {
   "display_name": "Python 3 (ipykernel)",
   "language": "python",
   "name": "python3"
  },
  "language_info": {
   "codemirror_mode": {
    "name": "ipython",
    "version": 3
   },
   "file_extension": ".py",
   "mimetype": "text/x-python",
   "name": "python",
   "nbconvert_exporter": "python",
   "pygments_lexer": "ipython3",
   "version": "3.10.1"
  }
 },
 "nbformat": 4,
 "nbformat_minor": 5
}
